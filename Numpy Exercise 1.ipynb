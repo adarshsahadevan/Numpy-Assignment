{
 "cells": [
  {
   "cell_type": "markdown",
   "id": "21bc8a5e",
   "metadata": {},
   "source": [
    "# Numpy Exercise 1"
   ]
  },
  {
   "cell_type": "markdown",
   "id": "6cf9fd16",
   "metadata": {},
   "source": [
    "#### 1. Create a NumPy array a with values 1 through 9. Reshape the array to a 3x3 matrix.\n"
   ]
  },
  {
   "cell_type": "code",
   "execution_count": 39,
   "id": "bf19bc97",
   "metadata": {},
   "outputs": [
    {
     "name": "stdout",
     "output_type": "stream",
     "text": [
      "1D array : [1 2 3 4 5 6 7 8 9]\n",
      "\n",
      "\n",
      "reshape 3x3 matrix: \n",
      " [[1 2 3]\n",
      " [4 5 6]\n",
      " [7 8 9]]\n"
     ]
    }
   ],
   "source": [
    "import numpy as np\n",
    "\n",
    "x=np.arange(1,10)\n",
    "print(\"1D array :\" ,x)\n",
    "\n",
    "print(\"\\n\")\n",
    "\n",
    "x.resize((3,3))\n",
    "print(\"reshape 3x3 matrix: \\n\", x) # it is 2d matrixs 3 rows and 3 columns."
   ]
  },
  {
   "cell_type": "markdown",
   "id": "250a62aa",
   "metadata": {},
   "source": [
    "#### 2. Create a NumPy array b with values 5 through 13. Reshape the array to a 3x3 matrix.\n"
   ]
  },
  {
   "cell_type": "code",
   "execution_count": 40,
   "id": "149d12db",
   "metadata": {},
   "outputs": [
    {
     "name": "stdout",
     "output_type": "stream",
     "text": [
      "1D array : [ 5  6  7  8  9 10 11 12 13]\n",
      "\n",
      "\n",
      " reshaped 3x3 array : \n",
      " [[ 5  6  7]\n",
      " [ 8  9 10]\n",
      " [11 12 13]]\n"
     ]
    }
   ],
   "source": [
    "b=np.arange(5,14)\n",
    "print(\"1D array :\",b)\n",
    "\n",
    "print(\"\\n\")\n",
    "\n",
    "b.resize((3,3))\n",
    "print(\" reshaped 3x3 array : \\n\", b)"
   ]
  },
  {
   "cell_type": "markdown",
   "id": "fb8766dd",
   "metadata": {},
   "source": [
    "#### 3. Multiply the matrix a by the matrix b using the @ operator.\n"
   ]
  },
  {
   "cell_type": "code",
   "execution_count": 43,
   "id": "7526e370",
   "metadata": {},
   "outputs": [
    {
     "name": "stdout",
     "output_type": "stream",
     "text": [
      "matrix a : \n",
      "[[1 2 3]\n",
      " [4 5 6]\n",
      " [7 8 9]]\n",
      "====================\n",
      "matrix b : \n",
      "[[ 5  6  7]\n",
      " [ 8  9 10]\n",
      " [11 12 13]]\n",
      "====================\n",
      "multiplication of the matrix : \n",
      "[[ 54  60  66]\n",
      " [126 141 156]\n",
      " [198 222 246]]\n"
     ]
    }
   ],
   "source": [
    "import numpy as np\n",
    "\n",
    "a = np.array([[1, 2, 3], [4, 5, 6], [7, 8, 9]])\n",
    "b = np.array([[5, 6, 7], [8, 9, 10], [11, 12, 13]])\n",
    "\n",
    "r=a @ b\n",
    "\n",
    "print(\"matrix a : \")\n",
    "print(a)\n",
    "print(\"=\"*20)\n",
    "print(\"matrix b : \")\n",
    "print(b)\n",
    "print(\"=\"*20)\n",
    "print(\"multiplication of the matrix : \")\n",
    "print(r)"
   ]
  },
  {
   "cell_type": "markdown",
   "id": "58b9abec",
   "metadata": {},
   "source": [
    "#### 4. Compute the dot product of the first row of a with the first column of b.\n"
   ]
  },
  {
   "cell_type": "code",
   "execution_count": 44,
   "id": "45026237",
   "metadata": {},
   "outputs": [
    {
     "name": "stdout",
     "output_type": "stream",
     "text": [
      "matrix a : \n",
      "[[1 2 3]\n",
      " [4 5 6]\n",
      " [7 8 9]]\n",
      "====================\n",
      "matrix b : \n",
      "[[ 5  6  7]\n",
      " [ 8  9 10]\n",
      " [11 12 13]]\n",
      "====================\n",
      "1st row of a : [1 2 3]\n",
      "1st column of a : [ 5  8 11]\n",
      "Dot Product: 54\n"
     ]
    }
   ],
   "source": [
    "import numpy as np\n",
    "\n",
    "a = np.array([[1, 2, 3], [4, 5, 6], [7, 8, 9]])\n",
    "b = np.array([[5, 6, 7], [8, 9, 10], [11, 12, 13]])\n",
    "\n",
    "r_a = a[0, :]\n",
    "c_b = b[:, 0]\n",
    "dot_product = np.dot(r_a, c_b)\n",
    "\n",
    "print(\"matrix a : \")\n",
    "print(a)\n",
    "print(\"=\"*20)\n",
    "print(\"matrix b : \")\n",
    "print(b)\n",
    "print(\"=\"*20)\n",
    "print(f\"1st row of a : {r_a}\")\n",
    "print(f\"1st column of a : {c_b}\")\n",
    "print(f\"Dot Product: {dot_product}\")"
   ]
  },
  {
   "cell_type": "markdown",
   "id": "d74a1770",
   "metadata": {},
   "source": [
    "#### 5. Compute the sum of all the elements in the matrix a.\n"
   ]
  },
  {
   "cell_type": "code",
   "execution_count": 45,
   "id": "cde34dd6",
   "metadata": {},
   "outputs": [
    {
     "name": "stdout",
     "output_type": "stream",
     "text": [
      "matrix a:\n",
      "[1 2 3]\n",
      "[4 5 6]\n",
      "[7 8 9]\n",
      "sum of all elements :45\n"
     ]
    }
   ],
   "source": [
    "import numpy as np\n",
    "\n",
    "a = np.array([[1, 2, 3], [4, 5, 6], [7, 8, 9]])\n",
    "total_sum = sum(sum(row) for row in a)\n",
    "\n",
    "print(f\"matrix a:\")\n",
    "for row in a:\n",
    "    print(row)\n",
    "print(f\"sum of all elements :{total_sum}\")    "
   ]
  },
  {
   "cell_type": "markdown",
   "id": "e95097dc",
   "metadata": {},
   "source": [
    "#### 6. Compute the product of all the elements in the matrix b.\n"
   ]
  },
  {
   "cell_type": "code",
   "execution_count": 2,
   "id": "edbe95ba",
   "metadata": {},
   "outputs": [
    {
     "name": "stdout",
     "output_type": "stream",
     "text": [
      "matrix a:\n",
      "[5 6 7]\n",
      "[ 8  9 10]\n",
      "[11 12 13]\n",
      "product of all elements :259459200\n"
     ]
    }
   ],
   "source": [
    "import numpy as np\n",
    "\n",
    "b = np.array([[5, 6, 7], [8, 9, 10], [11, 12, 13]])\n",
    "product = np.prod(b)\n",
    "\n",
    "print(f\"matrix a:\")\n",
    "for row in b:\n",
    "    print(row)\n",
    "print(f\"product of all elements :{product}\")   "
   ]
  },
  {
   "cell_type": "markdown",
   "id": "2659136d",
   "metadata": {},
   "source": [
    "#### 7. Create a 1D NumPy array c with values [1, 2, 3, 4, 5]. Use the np.insert () function to insert the value 0 at index 2.\n"
   ]
  },
  {
   "cell_type": "code",
   "execution_count": 4,
   "id": "46ca5fc2",
   "metadata": {},
   "outputs": [
    {
     "name": "stdout",
     "output_type": "stream",
     "text": [
      "original 1D array c:\n",
      "[1 2 3 4 5]\n",
      "modified array:\n",
      "[1 2 0 3 4 5]\n"
     ]
    }
   ],
   "source": [
    "import numpy as np\n",
    "\n",
    "c=np.array([1,2,3,4,5])\n",
    "\n",
    "c_0=np.insert(c,2,0)\n",
    "\n",
    "print(\"original 1D array c:\")\n",
    "print(c)\n",
    "print(\"modified array:\")\n",
    "print(c_0)"
   ]
  },
  {
   "cell_type": "markdown",
   "id": "ad21359e",
   "metadata": {},
   "source": [
    "#### 8. Create a 1D NumPy array d with values [1, 2, 3, 4, 5]. Use the np.delete () function to delete the value at index 3.\n"
   ]
  },
  {
   "cell_type": "code",
   "execution_count": 7,
   "id": "6661d8f7",
   "metadata": {},
   "outputs": [
    {
     "name": "stdout",
     "output_type": "stream",
     "text": [
      "1D array:\n",
      "[1 2 3 4 5]\n",
      "deleted index 3 array :\n",
      "[1 2 3 5]\n"
     ]
    }
   ],
   "source": [
    "import numpy as np\n",
    "\n",
    "d=np.array([1,2,3,4,5])\n",
    "\n",
    "d_delete=np.delete(d,3)\n",
    "\n",
    "print(\"1D array:\")\n",
    "print(d)\n",
    "print(\"deleted index 3 array :\")\n",
    "print(d_delete)"
   ]
  },
  {
   "cell_type": "markdown",
   "id": "3bf2878a",
   "metadata": {},
   "source": [
    "#### 9. Create a 2D NumPy array e with dimensions 3x4 and values 1 through 12. Use boolean indexing to select all elements greater than 5.\n"
   ]
  },
  {
   "cell_type": "code",
   "execution_count": 9,
   "id": "a6e0604e",
   "metadata": {},
   "outputs": [
    {
     "name": "stdout",
     "output_type": "stream",
     "text": [
      "2D array e:\n",
      "[[ 1  2  3  4]\n",
      " [ 5  6  7  8]\n",
      " [ 9 10 11 12]]\n",
      "\n",
      "\n",
      "selected elements greater than 5:\n",
      "[ 6  7  8  9 10 11 12]\n"
     ]
    }
   ],
   "source": [
    "import numpy as np\n",
    "\n",
    "e = np.arange(1,13).reshape(3,4)\n",
    "\n",
    "selected_elements = e[e > 5]\n",
    "\n",
    "print(\"2D array e:\")\n",
    "print(e)\n",
    "print(\"\\n\")\n",
    "print(\"selected elements greater than 5:\")\n",
    "print(selected_elements)"
   ]
  },
  {
   "cell_type": "markdown",
   "id": "39c35d10",
   "metadata": {},
   "source": [
    "#### 10. Create a 2D NumPy array f with dimensions 4x5 and values 1 through 20. Use fancy indexing to select the elements at positions at (0,0), (1,2), and (2,4).\n"
   ]
  },
  {
   "cell_type": "code",
   "execution_count": 13,
   "id": "3711ca5e",
   "metadata": {},
   "outputs": [
    {
     "name": "stdout",
     "output_type": "stream",
     "text": [
      "2D array f:\n",
      "[[ 1  2  3  4  5]\n",
      " [ 6  7  8  9 10]\n",
      " [11 12 13 14 15]\n",
      " [16 17 18 19 20]]\n",
      "\n",
      "\n",
      "selected elements at position (0,0),(1,2),(2,4) are:\n",
      "[ 1  8 15]\n"
     ]
    }
   ],
   "source": [
    "import numpy as np\n",
    "\n",
    "f=np.arange(1,21).reshape(4,5)\n",
    "\n",
    "select_elements = f[[0,1,2],[0,2,4]]  # in this The first list [0, 1, 2] represents the row indices, and the second list [0, 2, 4] represents the column indices.\n",
    "\n",
    "print(\"2D array f:\")\n",
    "print(f)\n",
    "print(\"\\n\")\n",
    "print(\"selected elements at position (0,0),(1,2),(2,4) are:\")\n",
    "print(select_elements)"
   ]
  },
  {
   "cell_type": "markdown",
   "id": "6972a069",
   "metadata": {},
   "source": [
    "#### 11. Create a 2D NumPy array 'a' with dimensions 5x5 and values 0.5 in the diagonal and 0 elsewhere.\n"
   ]
  },
  {
   "cell_type": "code",
   "execution_count": 28,
   "id": "9f194fa8",
   "metadata": {},
   "outputs": [
    {
     "name": "stdout",
     "output_type": "stream",
     "text": [
      "2D array :\n",
      "[[0.5 0.  0.  0.  0. ]\n",
      " [0.  0.5 0.  0.  0. ]\n",
      " [0.  0.  0.5 0.  0. ]\n",
      " [0.  0.  0.  0.5 0. ]\n",
      " [0.  0.  0.  0.  0.5]]\n"
     ]
    }
   ],
   "source": [
    "import numpy as np\n",
    "\n",
    "a=np.eye(5)*0.5\n",
    "\n",
    "print(\"2D array :\") # eye returns a 2D array with ones on the diagonal and zeros elsewhere , so if * 0.5 with eye will give (1 * 0.5 = 0.5) 0.5 in diagonals.\n",
    "print(a)"
   ]
  },
  {
   "cell_type": "markdown",
   "id": "32c45deb",
   "metadata": {},
   "source": [
    "#### 12. Create a 3D NumPy array b with dimensions 3x3x3 and random integer values between 0 and 10."
   ]
  },
  {
   "cell_type": "code",
   "execution_count": 20,
   "id": "2d081b3f",
   "metadata": {},
   "outputs": [
    {
     "name": "stdout",
     "output_type": "stream",
     "text": [
      "3D array b :\n",
      "[[[ 6 10  4]\n",
      "  [ 0  0  5]\n",
      "  [ 7  3 10]]\n",
      "\n",
      " [[ 7  7  4]\n",
      "  [ 2  2  1]\n",
      "  [ 4  6  5]]\n",
      "\n",
      " [[ 1  4  6]\n",
      "  [ 6  6  2]\n",
      "  [ 2  2  3]]]\n"
     ]
    }
   ],
   "source": [
    "import numpy as np\n",
    "\n",
    "b=np.random.randint(0,11,size=(3,3,3))\n",
    "\n",
    "print(\"3D array b :\")\n",
    "print(b)"
   ]
  },
  {
   "cell_type": "markdown",
   "id": "e76c1209",
   "metadata": {},
   "source": [
    "#### 13. Compute the mean of each row of the matrix b.\n"
   ]
  },
  {
   "cell_type": "code",
   "execution_count": 26,
   "id": "25e006c7",
   "metadata": {},
   "outputs": [
    {
     "name": "stdout",
     "output_type": "stream",
     "text": [
      "3D array b:\n",
      "[[[ 6 10  4]\n",
      "  [ 0  0  5]\n",
      "  [ 7  3 10]]\n",
      "\n",
      " [[ 7  7  4]\n",
      "  [ 2  2  1]\n",
      "  [ 4  6  5]]\n",
      "\n",
      " [[ 1  4  6]\n",
      "  [ 6  6  2]\n",
      "  [ 2  2  3]]]\n",
      "\n",
      "\n",
      "Mean of each row:\n",
      "[[4.33 4.33 6.33]\n",
      " [4.33 5.   3.33]\n",
      " [3.   4.   3.67]]\n"
     ]
    }
   ],
   "source": [
    "import numpy as np\n",
    "\n",
    "row_means = np.mean(b,axis=1)\n",
    "\n",
    "row_means_rounded = np.round(row_means, 2)\n",
    "\n",
    "print(\"3D array b:\")\n",
    "print(b)\n",
    "print(\"\\n\")\n",
    "print(\"Mean of each row:\")\n",
    "print(row_means_rounded)"
   ]
  },
  {
   "cell_type": "markdown",
   "id": "fe880109",
   "metadata": {},
   "source": [
    "#### 14. Compute the standard deviation of each column of the matrix 'a'.\n"
   ]
  },
  {
   "cell_type": "code",
   "execution_count": 32,
   "id": "10291267",
   "metadata": {},
   "outputs": [
    {
     "name": "stdout",
     "output_type": "stream",
     "text": [
      "2D array a:\n",
      "[[0.5 0.  0.  0.  0. ]\n",
      " [0.  0.5 0.  0.  0. ]\n",
      " [0.  0.  0.5 0.  0. ]\n",
      " [0.  0.  0.  0.5 0. ]\n",
      " [0.  0.  0.  0.  0.5]]\n",
      "=========================\n",
      "Standard deviation of each column:\n",
      "[0.2 0.2 0.2 0.2 0.2]\n"
     ]
    }
   ],
   "source": [
    "import numpy as np\n",
    "\n",
    "column_std=np.std(a,axis=0)\n",
    "\n",
    "print(\"2D array a:\")\n",
    "print(a)\n",
    "print(\"=\"*25)\n",
    "print(\"Standard deviation of each column:\")\n",
    "print(column_std)"
   ]
  },
  {
   "cell_type": "markdown",
   "id": "68416f55",
   "metadata": {},
   "source": [
    "#### 15. Compute the matrix multiplication of 'a' with its transpose.\n"
   ]
  },
  {
   "cell_type": "code",
   "execution_count": 39,
   "id": "bcc4b617",
   "metadata": {},
   "outputs": [
    {
     "name": "stdout",
     "output_type": "stream",
     "text": [
      "result of a*a^T:\n",
      "[[0.25 0.   0.   0.   0.  ]\n",
      " [0.   0.25 0.   0.   0.  ]\n",
      " [0.   0.   0.25 0.   0.  ]\n",
      " [0.   0.   0.   0.25 0.  ]\n",
      " [0.   0.   0.   0.   0.25]]\n"
     ]
    }
   ],
   "source": [
    "import numpy as np\n",
    "\n",
    "a_t=np.transpose(a)\n",
    "result = np.dot(a,a_t)  # or result = a @ a_t\n",
    "\n",
    "print(\"result of a*a^T:\")\n",
    "print(result)"
   ]
  },
  {
   "cell_type": "markdown",
   "id": "3bfd42b7",
   "metadata": {},
   "source": [
    "#### 16. Create a 2D NumPy array 'c' with dimensions 6x6 and values 1 in the diagonal and 0 elsewhere. Use the np.roll() function to shift the values in each row to the right by one position.\n"
   ]
  },
  {
   "cell_type": "code",
   "execution_count": 6,
   "id": "cc39523a",
   "metadata": {},
   "outputs": [
    {
     "name": "stdout",
     "output_type": "stream",
     "text": [
      "2D c array:\n",
      "[[1. 0. 0. 0. 0. 0.]\n",
      " [0. 1. 0. 0. 0. 0.]\n",
      " [0. 0. 1. 0. 0. 0.]\n",
      " [0. 0. 0. 1. 0. 0.]\n",
      " [0. 0. 0. 0. 1. 0.]\n",
      " [0. 0. 0. 0. 0. 1.]]\n",
      "\n",
      "\n",
      "shifted array:\n",
      "[[0. 1. 0. 0. 0. 0.]\n",
      " [0. 0. 1. 0. 0. 0.]\n",
      " [0. 0. 0. 1. 0. 0.]\n",
      " [0. 0. 0. 0. 1. 0.]\n",
      " [0. 0. 0. 0. 0. 1.]\n",
      " [1. 0. 0. 0. 0. 0.]]\n"
     ]
    }
   ],
   "source": [
    "import numpy as np\n",
    "\n",
    "c = np.eye(6)\n",
    "c_shift = np.roll(c,shift=1,axis=1)\n",
    "\n",
    "print(\"2D c array:\")\n",
    "print(c)\n",
    "print(\"\\n\")\n",
    "print(\"shifted array:\")\n",
    "print(c_shift)"
   ]
  },
  {
   "cell_type": "markdown",
   "id": "89889185",
   "metadata": {},
   "source": [
    "#### 17. Create a 2D NumPy array 'd' with dimensions 4x4 and random values between 0 and 1. Normalize the values in each row to have a sum of 1.\n"
   ]
  },
  {
   "cell_type": "code",
   "execution_count": 10,
   "id": "6aba6e93",
   "metadata": {},
   "outputs": [
    {
     "name": "stdout",
     "output_type": "stream",
     "text": [
      "2D d array\n",
      "[[0.4980468  0.00454985 0.25084176 0.4010905 ]\n",
      " [0.62762694 0.75584102 0.39506259 0.63387106]\n",
      " [0.38233343 0.67627541 0.22393111 0.8293884 ]\n",
      " [0.87683279 0.32197102 0.02320244 0.75215232]]\n",
      "\n",
      "\n",
      "normalized array:\n",
      "[[0.4313853  0.00394087 0.21726763 0.3474062 ]\n",
      " [0.26016686 0.31331476 0.16376319 0.2627552 ]\n",
      " [0.18103523 0.32021702 0.10603158 0.39271616]\n",
      " [0.4441552  0.16309278 0.01175308 0.38099894]]\n"
     ]
    }
   ],
   "source": [
    "import numpy as np\n",
    "\n",
    "d=np.random.rand(4,4)\n",
    "row_sum = d.sum(axis=1)\n",
    "d_normalized = d/row_sum[:, np.newaxis]   # The row_sums[:, np.newaxis] creates a new axis (column) from the row sums, allowing us to perform element-wise division.\n",
    "\n",
    "print(\"2D d array\")\n",
    "print(d)\n",
    "print(\"\\n\")\n",
    "print(\"normalized array:\")\n",
    "print(d_normalized)"
   ]
  },
  {
   "cell_type": "markdown",
   "id": "b4afb34f",
   "metadata": {},
   "source": [
    "#### 18. Create a 2D NumPy array 'e' with dimensions 3x3 and values 1 through 9. Use the np.flipud() function to flip the matrix vertically\n"
   ]
  },
  {
   "cell_type": "code",
   "execution_count": 17,
   "id": "55f6a6a2",
   "metadata": {},
   "outputs": [
    {
     "name": "stdout",
     "output_type": "stream",
     "text": [
      "e array:\n",
      "[[1 2 3]\n",
      " [4 5 6]\n",
      " [7 8 9]]\n",
      "\n",
      "Flipped e array:\n",
      "[[7 8 9]\n",
      " [4 5 6]\n",
      " [1 2 3]]\n"
     ]
    }
   ],
   "source": [
    "import numpy as np\n",
    "\n",
    "e = np.arange(1, 10).reshape(3, 3)\n",
    "e_flipped = np.flipud(e)\n",
    "\n",
    "\n",
    "print(\"e array:\")\n",
    "print(e)\n",
    "print(\"\\nFlipped e array:\")\n",
    "print(e_flipped)"
   ]
  },
  {
   "cell_type": "markdown",
   "id": "56ae0e8d",
   "metadata": {},
   "source": [
    "#### 19. Create a 2D NumPy array with dimensions 4x4 and random integer values between 0 and 10. Sort the values in each row in ascending order.\n"
   ]
  },
  {
   "cell_type": "code",
   "execution_count": 16,
   "id": "6d1018c3",
   "metadata": {},
   "outputs": [
    {
     "name": "stdout",
     "output_type": "stream",
     "text": [
      "z array:\n",
      "[[10  4  5  5]\n",
      " [ 8  4  8  2]\n",
      " [ 8  1 10  6]\n",
      " [ 9  8  8  6]]\n",
      "\n",
      "Flipped e array:\n",
      "[[ 4  5  5 10]\n",
      " [ 2  4  8  8]\n",
      " [ 1  6  8 10]\n",
      " [ 6  8  8  9]]\n"
     ]
    }
   ],
   "source": [
    "import numpy as np\n",
    "\n",
    "z = np.random.randint(0, 11,size=(4, 4))\n",
    "z_sorted = np.sort(z,axis=1)\n",
    "\n",
    "\n",
    "print(\"z array:\")\n",
    "print(z)\n",
    "print(\"\\nFlipped e array:\")\n",
    "print(z_sorted)"
   ]
  },
  {
   "cell_type": "markdown",
   "id": "bc1fe028",
   "metadata": {},
   "source": [
    "#### 20. Create a 2D NumPy array 'g' with dimensions 5x5 and values 0 in the diagonal and 1 elsewhere. Use the np.linalg.inv() function to compute the inverse of the matrix."
   ]
  },
  {
   "cell_type": "code",
   "execution_count": 15,
   "id": "0a99da6c",
   "metadata": {},
   "outputs": [
    {
     "name": "stdout",
     "output_type": "stream",
     "text": [
      "g array\n",
      "[[0. 1. 1. 1. 1.]\n",
      " [1. 0. 1. 1. 1.]\n",
      " [1. 1. 0. 1. 1.]\n",
      " [1. 1. 1. 0. 1.]\n",
      " [1. 1. 1. 1. 0.]]\n",
      "\n",
      "inversed matrix\n",
      "[[-0.75  0.25  0.25  0.25  0.25]\n",
      " [ 0.25 -0.75  0.25  0.25  0.25]\n",
      " [ 0.25  0.25 -0.75  0.25  0.25]\n",
      " [ 0.25  0.25  0.25 -0.75  0.25]\n",
      " [ 0.25  0.25  0.25  0.25 -0.75]]\n"
     ]
    }
   ],
   "source": [
    "import numpy as np\n",
    "\n",
    "g = 1-np.eye(5)\n",
    "g_inverse = np.linalg.inv(g)\n",
    "\n",
    "print(\"g array\")\n",
    "print(g)\n",
    "print(\"\\ninversed matrix\")\n",
    "print(g_inverse)"
   ]
  },
  {
   "cell_type": "code",
   "execution_count": null,
   "id": "ebf069ae",
   "metadata": {},
   "outputs": [],
   "source": []
  }
 ],
 "metadata": {
  "kernelspec": {
   "display_name": "Python 3 (ipykernel)",
   "language": "python",
   "name": "python3"
  },
  "language_info": {
   "codemirror_mode": {
    "name": "ipython",
    "version": 3
   },
   "file_extension": ".py",
   "mimetype": "text/x-python",
   "name": "python",
   "nbconvert_exporter": "python",
   "pygments_lexer": "ipython3",
   "version": "3.11.5"
  }
 },
 "nbformat": 4,
 "nbformat_minor": 5
}
